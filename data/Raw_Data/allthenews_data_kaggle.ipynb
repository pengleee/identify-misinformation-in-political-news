{
 "cells": [
  {
   "cell_type": "code",
   "execution_count": 1,
   "metadata": {},
   "outputs": [
    {
     "name": "stdout",
     "output_type": "stream",
     "text": [
      "Path to dataset files: /Users/pengli/.cache/kagglehub/datasets/davidmckinley/all-the-news-dataset/versions/1\n"
     ]
    }
   ],
   "source": [
    "import kagglehub\n",
    "\n",
    "# Download latest version\n",
    "# https://www.kaggle.com/datasets/davidmckinley/all-the-news-dataset\n",
    "path = kagglehub.dataset_download(\"davidmckinley/all-the-news-dataset\")\n",
    "\n",
    "print(\"Path to dataset files:\", path)\n",
    "file_path = path + '/all-the-news-2-1.csv'"
   ]
  },
  {
   "cell_type": "code",
   "execution_count": 2,
   "metadata": {},
   "outputs": [
    {
     "name": "stdout",
     "output_type": "stream",
     "text": [
      "Chunk 220 written to ../data/raw-data/chunk_220.csv\n",
      "Chunk 221 written to ../data/raw-data/chunk_221.csv\n",
      "Chunk 222 written to ../data/raw-data/chunk_222.csv\n",
      "Chunk 223 written to ../data/raw-data/chunk_223.csv\n",
      "Chunk 224 written to ../data/raw-data/chunk_224.csv\n",
      "Chunk 225 written to ../data/raw-data/chunk_225.csv\n",
      "Chunk 226 written to ../data/raw-data/chunk_226.csv\n",
      "Chunk 227 written to ../data/raw-data/chunk_227.csv\n",
      "Chunk 228 written to ../data/raw-data/chunk_228.csv\n",
      "Chunk 229 written to ../data/raw-data/chunk_229.csv\n",
      "Chunk 230 written to ../data/raw-data/chunk_230.csv\n",
      "Chunk 231 written to ../data/raw-data/chunk_231.csv\n",
      "Chunk 232 written to ../data/raw-data/chunk_232.csv\n",
      "Chunk 233 written to ../data/raw-data/chunk_233.csv\n",
      "Chunk 234 written to ../data/raw-data/chunk_234.csv\n",
      "Chunk 235 written to ../data/raw-data/chunk_235.csv\n",
      "Chunk 236 written to ../data/raw-data/chunk_236.csv\n",
      "Chunk 237 written to ../data/raw-data/chunk_237.csv\n",
      "Chunk 238 written to ../data/raw-data/chunk_238.csv\n",
      "Chunk 239 written to ../data/raw-data/chunk_239.csv\n",
      "Chunk 240 written to ../data/raw-data/chunk_240.csv\n",
      "Chunk 241 written to ../data/raw-data/chunk_241.csv\n",
      "Chunk 242 written to ../data/raw-data/chunk_242.csv\n",
      "Chunk 243 written to ../data/raw-data/chunk_243.csv\n",
      "Chunk 244 written to ../data/raw-data/chunk_244.csv\n",
      "Chunk 245 written to ../data/raw-data/chunk_245.csv\n",
      "Chunk 246 written to ../data/raw-data/chunk_246.csv\n",
      "Chunk 247 written to ../data/raw-data/chunk_247.csv\n",
      "Chunk 248 written to ../data/raw-data/chunk_248.csv\n",
      "Chunk 249 written to ../data/raw-data/chunk_249.csv\n",
      "Chunk 250 written to ../data/raw-data/chunk_250.csv\n",
      "Chunk 251 written to ../data/raw-data/chunk_251.csv\n",
      "Chunk 252 written to ../data/raw-data/chunk_252.csv\n",
      "Chunk 253 written to ../data/raw-data/chunk_253.csv\n",
      "Chunk 254 written to ../data/raw-data/chunk_254.csv\n",
      "Chunk 255 written to ../data/raw-data/chunk_255.csv\n",
      "Chunk 256 written to ../data/raw-data/chunk_256.csv\n",
      "Chunk 257 written to ../data/raw-data/chunk_257.csv\n",
      "Chunk 258 written to ../data/raw-data/chunk_258.csv\n",
      "Chunk 259 written to ../data/raw-data/chunk_259.csv\n",
      "Chunk 260 written to ../data/raw-data/chunk_260.csv\n",
      "Chunk 261 written to ../data/raw-data/chunk_261.csv\n",
      "Chunk 262 written to ../data/raw-data/chunk_262.csv\n",
      "Chunk 263 written to ../data/raw-data/chunk_263.csv\n",
      "Chunk 264 written to ../data/raw-data/chunk_264.csv\n",
      "Chunk 265 written to ../data/raw-data/chunk_265.csv\n",
      "Chunk 266 written to ../data/raw-data/chunk_266.csv\n",
      "Chunk 267 written to ../data/raw-data/chunk_267.csv\n",
      "Chunk 268 written to ../data/raw-data/chunk_268.csv\n"
     ]
    }
   ],
   "source": [
    "import pandas as pd\n",
    "\n",
    "# Define the path to the large CSV file\n",
    "input_csv = file_path\n",
    "\n",
    "# Define the size of each chunk (number of rows per chunk)\n",
    "chunksize = 10000\n",
    "\n",
    "# Create an iterator to read the CSV file in chunks\n",
    "chunk_iter = pd.read_csv(input_csv, chunksize=chunksize)\n",
    "\n",
    "# Iterate over the chunks and write each one to a new CSV file\n",
    "for i, chunk in enumerate(chunk_iter):\n",
    "    if i < 220:\n",
    "        continue\n",
    "    else:\n",
    "        output_csv = f'../data/raw-data/chunk_{i}.csv'\n",
    "        chunk.to_csv(output_csv, index=False)\n",
    "        print(f'Chunk {i} written to {output_csv}')"
   ]
  }
 ],
 "metadata": {
  "kernelspec": {
   "display_name": "base",
   "language": "python",
   "name": "python3"
  },
  "language_info": {
   "codemirror_mode": {
    "name": "ipython",
    "version": 3
   },
   "file_extension": ".py",
   "mimetype": "text/x-python",
   "name": "python",
   "nbconvert_exporter": "python",
   "pygments_lexer": "ipython3",
   "version": "3.12.7"
  }
 },
 "nbformat": 4,
 "nbformat_minor": 2
}
