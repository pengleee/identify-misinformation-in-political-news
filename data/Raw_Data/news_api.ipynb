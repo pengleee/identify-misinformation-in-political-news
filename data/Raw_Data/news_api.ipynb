{
 "cells": [
  {
   "cell_type": "code",
   "execution_count": null,
   "metadata": {},
   "outputs": [],
   "source": [
    "import requests\n",
    "import json\n",
    "import datetime\n",
    "\n",
    "today_date = datetime.datetime.now().strftime(\"%Y-%m-%d\")\n",
    "thirty_days_ago = (datetime.datetime.now() - datetime.timedelta(days=30)).strftime(\"%Y-%m-%d\")\n",
    "\n",
    "with open('/Users/pengli/.api-keys.json') as f:\n",
    "    keys = json.load(f)\n",
    "\n",
    "# Your API key\n",
    "API_KEY = keys['NEWS_API_KEY']\n",
    "\n",
    "def search_news(search_query, from_date=thirty_days_ago, to_date=today_date, verbose=False):\n",
    "    '''\n",
    "    date format: YYYY-MM-DD\n",
    "    from_date cannot exceed 30 days in the past from the current date due to the limitation of a 30-day window for the free tier of newsapi\n",
    "    '''\n",
    "    \n",
    "    # Base URL\n",
    "    url = \"https://newsapi.org/v2/everything\"\n",
    "\n",
    "    # Parameters for the API request\n",
    "    params = {\n",
    "        \"q\": search_query,               # Keyword to search for\n",
    "        \"language\": \"en\",              # Language filter\n",
    "        \"sortBy\": \"relevancy\",         # Sorting (relevancy, popularity, publishedAt)\n",
    "        # \"pageSize\": 20,                # Number of results per page\n",
    "        \"from\": from_date,               # Start date\n",
    "        \"to\": to_date,                 # End date\n",
    "        \"apiKey\": API_KEY              # API key\n",
    "    }\n",
    "    \n",
    "    # Create a timestamped output filename\n",
    "    timestamp = datetime.datetime.now().strftime(\"%Y%m%d_%H%M%S\")\n",
    "    output_filename = f\"{search_query.replace(' ', '_')}_{timestamp}.json\"\n",
    "    \n",
    "    # Send GET request\n",
    "    response = requests.get(url, params=params)\n",
    "\n",
    "    # Parse JSON response\n",
    "    if response.status_code == 200:\n",
    "        data = response.json()\n",
    "        articles = data.get(\"articles\", [])\n",
    "        if verbose:\n",
    "            for article in articles:\n",
    "                print(f\"Title: {article['title']}\")\n",
    "                print(f\"Source: {article['source']['name']}\")\n",
    "                print(f\"Published At: {article['publishedAt']}\")\n",
    "                print(f\"URL: {article['url']}\")\n",
    "                print(\"\\n\")\n",
    "        # Save results to a JSON file in the ./data directory\n",
    "        output_filename = f\"./news_api_data/{search_query.replace(' ', '_')}_{timestamp}.json\"\n",
    "        with open(output_filename, 'w') as f:\n",
    "            json.dump(data, f, indent=4)\n",
    "    else:\n",
    "        print(f\"Error: {response.status_code}\")"
   ]
  },
  {
   "cell_type": "code",
   "execution_count": null,
   "metadata": {},
   "outputs": [],
   "source": [
    "search_news('politics')"
   ]
  }
 ],
 "metadata": {
  "kernelspec": {
   "display_name": "base",
   "language": "python",
   "name": "python3"
  },
  "language_info": {
   "codemirror_mode": {
    "name": "ipython",
    "version": 3
   },
   "file_extension": ".py",
   "mimetype": "text/x-python",
   "name": "python",
   "nbconvert_exporter": "python",
   "pygments_lexer": "ipython3",
   "version": "3.12.7"
  }
 },
 "nbformat": 4,
 "nbformat_minor": 2
}
