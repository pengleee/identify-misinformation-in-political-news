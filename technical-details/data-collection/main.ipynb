{
 "cells": [
  {
   "cell_type": "markdown",
   "metadata": {},
   "source": [
    "---\n",
    "title: \"Data Collection\"\n",
    "format:\n",
    "    html: \n",
    "        code-fold: false\n",
    "---"
   ]
  },
  {
   "cell_type": "markdown",
   "metadata": {},
   "source": [
    "# Data Source Information\n",
    "\n",
    "- [LIAR Dataset](https://paperswithcode.com/dataset/liar): A benchmark dataset for fake news detection, containing 12.8K human-labeled short statements from various contexts, including news articles, TV or radio interviews, campaign speeches, social media posts, and fact-checking websites. Each statement is annotated with labels indicating their truthfulness level.\n",
    "\n",
    "- [MediaCloud API Data](https://www.mediacloud.org/documentation/search-api-guide): A comprehensive platform offering access to a vast collection of news articles and media content. The API enables programmatic access to analyze news coverage, track topics across different media sources, and study media ecosystems over time.\n",
    "\n",
    "- [News API Data](https://newsapi.org/): A simple HTTP REST API for searching and retrieving live articles from all over the web. It provides access to headlines and articles from over 80,000 news sources worldwide, supporting features like keyword search, source filtering, and date range queries.\n",
    "\n",
    "\n",
    "    [Link to Raw Datasets](https://drive.google.com/drive/folders/1BhtUJBXXTVkJSfUBJJ45fhS64PgUTtBh?usp=sharing)"
   ]
  },
  {
   "cell_type": "markdown",
   "metadata": {},
   "source": [
    "{{< include mediacloud_api.qmd >}} "
   ]
  },
  {
   "cell_type": "markdown",
   "metadata": {},
   "source": [
    "{{< include news_api.qmd >}} "
   ]
  }
 ],
 "metadata": {
  "kernelspec": {
   "display_name": "base",
   "language": "python",
   "name": "python3"
  },
  "language_info": {
   "codemirror_mode": {
    "name": "ipython",
    "version": 3
   },
   "file_extension": ".py",
   "mimetype": "text/x-python",
   "name": "python",
   "nbconvert_exporter": "python",
   "pygments_lexer": "ipython3",
   "version": "3.10.14"
  }
 },
 "nbformat": 4,
 "nbformat_minor": 2
}
